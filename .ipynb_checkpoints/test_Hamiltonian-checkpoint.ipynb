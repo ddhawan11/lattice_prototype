{
 "cells": [
  {
   "cell_type": "code",
   "execution_count": 1,
   "id": "84ed3cff-27e1-46e1-ace2-a10217abcc35",
   "metadata": {},
   "outputs": [],
   "source": [
    "import numpy as np\n",
    "from lattice import Lattice\n",
    "from spin_hamiltonian import TFIsingModel, HeisenbergModel, HubbardModel_spinless"
   ]
  },
  {
   "cell_type": "code",
   "execution_count": 2,
   "id": "40f6b20f-6f14-42fa-9415-613d4d22d241",
   "metadata": {},
   "outputs": [
    {
     "data": {
      "image/png": "[encoded data removed]",
      "text/plain": [
       "<Figure size 800x600 with 1 Axes>"
      ]
     },
     "metadata": {},
     "output_type": "display_data"
    }
   ],
   "source": [
    "unit_cell = [[1,0], [0, 1]]\n",
    "\n",
    "custom_edges = [\n",
    "    (0, 0, [1,0], (0.5)),\n",
    "    (0, 0, [0,1], (1.0))\n",
    "]\n",
    "L = [3,3]\n",
    "lattice_square_custom = Lattice(L=L, unit_cell=unit_cell, custom_edges=custom_edges)\n",
    "lattice_square = Lattice(L=L, unit_cell=unit_cell)\n",
    "lattice_square.plot_lattice()\n"
   ]
  },
  {
   "cell_type": "code",
   "execution_count": 2,
   "id": "86813237-8c3a-4f0d-9683-eb0e94aab9d1",
   "metadata": {},
   "outputs": [
    {
     "name": "stdout",
     "output_type": "stream",
     "text": [
      "[[0]\n",
      " [1]\n",
      " [2]\n",
      " [3]\n",
      " [4]\n",
      " [5]\n",
      " [6]\n",
      " [7]\n",
      " [8]]\n",
      "[[0]\n",
      " [1]\n",
      " [2]\n",
      " [3]\n",
      " [4]\n",
      " [5]\n",
      " [6]\n",
      " [7]\n",
      " [8]]\n",
      "[[1]\n",
      " [2]\n",
      " [3]\n",
      " [4]\n",
      " [5]\n",
      " [6]\n",
      " [7]\n",
      " [8]\n",
      " [9]]\n",
      "[[1]\n",
      " [2]\n",
      " [3]\n",
      " [4]\n",
      " [5]\n",
      " [6]\n",
      " [7]\n",
      " [8]\n",
      " [9]]\n"
     ]
    },
    {
     "ename": "AttributeError",
     "evalue": "'NoneType' object has no attribute 'edges'",
     "output_type": "error",
     "traceback": [
      "\u001b[0;31m---------------------------------------------------------------------------\u001b[0m",
      "\u001b[0;31mAttributeError\u001b[0m                            Traceback (most recent call last)",
      "Cell \u001b[0;32mIn[2], line 6\u001b[0m\n\u001b[1;32m      3\u001b[0m h \u001b[38;5;241m=\u001b[39m \u001b[38;5;241m10.0\u001b[39m\n\u001b[1;32m      5\u001b[0m \u001b[38;5;66;03m#Ising model with constant coupling\u001b[39;00m\n\u001b[0;32m----> 6\u001b[0m TFIsingModel(\u001b[38;5;241m10\u001b[39m, J, h)\n",
      "File \u001b[0;32m~/Documents/example_calc/lattice_spinHam/lattice_prototype/spin_hamiltonian.py:46\u001b[0m, in \u001b[0;36mTFIsingModel\u001b[0;34m(num_spins, coupling, magnetic_field, lattice_dim)\u001b[0m\n\u001b[1;32m     42\u001b[0m lattice \u001b[38;5;241m=\u001b[39m generate_lattice(num_spins, lattice_dim, coupling)\n\u001b[1;32m     44\u001b[0m hamiltonian \u001b[38;5;241m=\u001b[39m \u001b[38;5;241m0.0\u001b[39m\n\u001b[0;32m---> 46\u001b[0m \u001b[38;5;28;01mfor\u001b[39;00m edge \u001b[38;5;129;01min\u001b[39;00m lattice\u001b[38;5;241m.\u001b[39medges:\n\u001b[1;32m     47\u001b[0m     i, j \u001b[38;5;241m=\u001b[39m edge[\u001b[38;5;241m0\u001b[39m], edge[\u001b[38;5;241m1\u001b[39m]\n\u001b[1;32m     48\u001b[0m     hamiltonian \u001b[38;5;241m+\u001b[39m\u001b[38;5;241m=\u001b[39m \u001b[38;5;241m-\u001b[39m edge[\u001b[38;5;241m2\u001b[39m] \u001b[38;5;241m*\u001b[39m (Z(i) \u001b[38;5;241m@\u001b[39m Z(j))\n",
      "\u001b[0;31mAttributeError\u001b[0m: 'NoneType' object has no attribute 'edges'"
     ]
    }
   ],
   "source": [
    "## IsingModel\n",
    "J = 0.5\n",
    "h = 10.0\n",
    "\n",
    "#Ising model with constant coupling\n",
    "TFIsingModel(10, J, h)"
   ]
  },
  {
   "cell_type": "code",
   "execution_count": 4,
   "id": "5a417dda-3756-4b0a-8fea-fb9c5dcaf30e",
   "metadata": {},
   "outputs": [
    {
     "data": {
      "text/plain": [
       "(\n",
       "    0.0 * (X(0) @ X(1)\n",
       "  + Y(0) @ Y(1)\n",
       "  + Z(0) @ Z(1))\n",
       "  + 0.0 * (X(1) @ X(2)\n",
       "  + Y(1) @ Y(2)\n",
       "  + Z(1) @ Z(2))\n",
       "  + 0.0 * (X(3) @ X(4)\n",
       "  + Y(3) @ Y(4)\n",
       "  + Z(3) @ Z(4))\n",
       "  + 0.0 * (X(5) @ X(8)\n",
       "  + Y(5) @ Y(8)\n",
       "  + Z(5) @ Z(8))\n",
       "  + 0.0 * (X(0) @ X(3)\n",
       "  + Y(0) @ Y(3)\n",
       "  + Z(0) @ Z(3))\n",
       "  + 0.0 * (X(1) @ X(4)\n",
       "  + Y(1) @ Y(4)\n",
       "  + Z(1) @ Z(4))\n",
       "  + 0.0 * (X(6) @ X(7)\n",
       "  + Y(6) @ Y(7)\n",
       "  + Z(6) @ Z(7))\n",
       "  + 0.0 * (X(4) @ X(5)\n",
       "  + Y(4) @ Y(5)\n",
       "  + Z(4) @ Z(5))\n",
       "  + 0.0 * (X(3) @ X(6)\n",
       "  + Y(3) @ Y(6)\n",
       "  + Z(3) @ Z(6))\n",
       "  + 0.0 * (X(2) @ X(5)\n",
       "  + Y(2) @ Y(5)\n",
       "  + Z(2) @ Z(5))\n",
       "  + 0.0 * (X(4) @ X(7)\n",
       "  + Y(4) @ Y(7)\n",
       "  + Z(4) @ Z(7))\n",
       "  + 0.0 * (X(7) @ X(8)\n",
       "  + Y(7) @ Y(8)\n",
       "  + Z(7) @ Z(8))\n",
       ")"
      ]
     },
     "execution_count": 4,
     "metadata": {},
     "output_type": "execute_result"
    }
   ],
   "source": [
    "HeisenbergModel(lattice_square, J)"
   ]
  },
  {
   "cell_type": "code",
   "execution_count": 5,
   "id": "d37fcf53-c17d-4e26-8e61-c885307cca2a",
   "metadata": {},
   "outputs": [
    {
     "data": {
      "text/plain": [
       "(\n",
       "    -1.0 * (Y(0) @ Y(1))\n",
       "  + -1.0 * (X(0) @ X(1))\n",
       "  + 3.0 * I(0)\n",
       "  + -0.75 * Z(1)\n",
       "  + -0.5 * Z(0)\n",
       "  + 0.25 * (Z(0) @ Z(1))\n",
       "  + -1.0 * (Y(1) @ Y(2))\n",
       "  + -1.0 * (X(1) @ X(2))\n",
       "  + -0.5 * Z(2)\n",
       "  + 0.25 * (Z(1) @ Z(2))\n",
       "  + -1.0 * (Y(3) @ Y(4))\n",
       "  + -1.0 * (X(3) @ X(4))\n",
       "  + -1.0 * Z(4)\n",
       "  + -0.75 * Z(3)\n",
       "  + 0.25 * (Z(3) @ Z(4))\n",
       "  + -1.0 * (Y(5) @ Z(6) @ Z(7) @ Y(8))\n",
       "  + -1.0 * (X(5) @ Z(6) @ Z(7) @ X(8))\n",
       "  + -0.5 * Z(8)\n",
       "  + -0.75 * Z(5)\n",
       "  + 0.25 * (Z(5) @ Z(8))\n",
       "  + -1.0 * (Y(0) @ Z(1) @ Z(2) @ Y(3))\n",
       "  + -1.0 * (X(0) @ Z(1) @ Z(2) @ X(3))\n",
       "  + 0.25 * (Z(0) @ Z(3))\n",
       "  + -1.0 * (Y(1) @ Z(2) @ Z(3) @ Y(4))\n",
       "  + -1.0 * (X(1) @ Z(2) @ Z(3) @ X(4))\n",
       "  + 0.25 * (Z(1) @ Z(4))\n",
       "  + -1.0 * (Y(6) @ Y(7))\n",
       "  + -1.0 * (X(6) @ X(7))\n",
       "  + -0.75 * Z(7)\n",
       "  + -0.5 * Z(6)\n",
       "  + 0.25 * (Z(6) @ Z(7))\n",
       "  + -1.0 * (Y(4) @ Y(5))\n",
       "  + -1.0 * (X(4) @ X(5))\n",
       "  + 0.25 * (Z(4) @ Z(5))\n",
       "  + -1.0 * (Y(3) @ Z(4) @ Z(5) @ Y(6))\n",
       "  + -1.0 * (X(3) @ Z(4) @ Z(5) @ X(6))\n",
       "  + 0.25 * (Z(3) @ Z(6))\n",
       "  + -1.0 * (Y(2) @ Z(3) @ Z(4) @ Y(5))\n",
       "  + -1.0 * (X(2) @ Z(3) @ Z(4) @ X(5))\n",
       "  + 0.25 * (Z(2) @ Z(5))\n",
       "  + -1.0 * (Y(4) @ Z(5) @ Z(6) @ Y(7))\n",
       "  + -1.0 * (X(4) @ Z(5) @ Z(6) @ X(7))\n",
       "  + 0.25 * (Z(4) @ Z(7))\n",
       "  + -1.0 * (Y(7) @ Y(8))\n",
       "  + -1.0 * (X(7) @ X(8))\n",
       "  + 0.25 * (Z(7) @ Z(8))\n",
       ")"
      ]
     },
     "execution_count": 5,
     "metadata": {},
     "output_type": "execute_result"
    }
   ],
   "source": [
    "HubbardModel_spinless(lattice_square, t=2.0)"
   ]
  }
 ],
 "metadata": {
  "kernelspec": {
   "display_name": "Python 3 (ipykernel)",
   "language": "python",
   "name": "python3"
  },
  "language_info": {
   "codemirror_mode": {
    "name": "ipython",
    "version": 3
   },
   "file_extension": ".py",
   "mimetype": "text/x-python",
   "name": "python",
   "nbconvert_exporter": "python",
   "pygments_lexer": "ipython3",
   "version": "3.12.4"
  }
 },
 "nbformat": 4,
 "nbformat_minor": 5
}
