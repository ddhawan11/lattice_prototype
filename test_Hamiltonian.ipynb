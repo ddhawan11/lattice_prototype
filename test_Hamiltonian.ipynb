{
 "cells": [
  {
   "cell_type": "code",
   "execution_count": 1,
   "id": "84ed3cff-27e1-46e1-ace2-a10217abcc35",
   "metadata": {},
   "outputs": [],
   "source": [
    "import numpy as np\n",
    "from lattice import Lattice\n",
    "from spin_hamiltonian import TFIsingModel, HeisenbergModel, HubbardModel_spinless"
   ]
  },
  {
   "cell_type": "code",
   "execution_count": 2,
   "id": "86813237-8c3a-4f0d-9683-eb0e94aab9d1",
   "metadata": {},
   "outputs": [
    {
     "data": {
      "text/plain": [
       "(\n",
       "    -0.5 * (Z(0) @ Z(1))\n",
       "  + -0.5 * (Z(1) @ Z(2))\n",
       "  + -0.5 * (Z(3) @ Z(4))\n",
       "  + -0.5 * (Z(5) @ Z(8))\n",
       "  + -0.5 * (Z(0) @ Z(3))\n",
       "  + -0.5 * (Z(1) @ Z(4))\n",
       "  + -0.5 * (Z(6) @ Z(7))\n",
       "  + -0.5 * (Z(4) @ Z(5))\n",
       "  + -0.5 * (Z(3) @ Z(6))\n",
       "  + -0.5 * (Z(2) @ Z(5))\n",
       "  + -0.5 * (Z(4) @ Z(7))\n",
       "  + -0.5 * (Z(7) @ Z(8))\n",
       "  + -10.0 * X(0)\n",
       "  + -10.0 * X(1)\n",
       "  + -10.0 * X(2)\n",
       "  + -10.0 * X(3)\n",
       "  + -10.0 * X(4)\n",
       "  + -10.0 * X(5)\n",
       "  + -10.0 * X(6)\n",
       "  + -10.0 * X(7)\n",
       "  + -10.0 * X(8)\n",
       ")"
      ]
     },
     "execution_count": 2,
     "metadata": {},
     "output_type": "execute_result"
    }
   ],
   "source": [
    "## IsingModel\n",
    "J = 0.5\n",
    "h = 10.0\n",
    "\n",
    "#Ising model with constant coupling\n",
    "TFIsingModel(10, J, h)\n",
    "TFIsingModel(9, J, h, lattice_dim=\"2D\")"
   ]
  },
  {
   "cell_type": "code",
   "execution_count": 3,
   "id": "5a417dda-3756-4b0a-8fea-fb9c5dcaf30e",
   "metadata": {},
   "outputs": [
    {
     "data": {
      "text/plain": [
       "(\n",
       "    0.5 * (X(0) @ X(1)\n",
       "  + Y(0) @ Y(1)\n",
       "  + Z(0) @ Z(1))\n",
       "  + 0.5 * (X(1) @ X(2)\n",
       "  + Y(1) @ Y(2)\n",
       "  + Z(1) @ Z(2))\n",
       "  + 0.5 * (X(3) @ X(4)\n",
       "  + Y(3) @ Y(4)\n",
       "  + Z(3) @ Z(4))\n",
       "  + 0.5 * (X(5) @ X(8)\n",
       "  + Y(5) @ Y(8)\n",
       "  + Z(5) @ Z(8))\n",
       "  + 0.5 * (X(0) @ X(3)\n",
       "  + Y(0) @ Y(3)\n",
       "  + Z(0) @ Z(3))\n",
       "  + 0.5 * (X(1) @ X(4)\n",
       "  + Y(1) @ Y(4)\n",
       "  + Z(1) @ Z(4))\n",
       "  + 0.5 * (X(6) @ X(7)\n",
       "  + Y(6) @ Y(7)\n",
       "  + Z(6) @ Z(7))\n",
       "  + 0.5 * (X(4) @ X(5)\n",
       "  + Y(4) @ Y(5)\n",
       "  + Z(4) @ Z(5))\n",
       "  + 0.5 * (X(3) @ X(6)\n",
       "  + Y(3) @ Y(6)\n",
       "  + Z(3) @ Z(6))\n",
       "  + 0.5 * (X(2) @ X(5)\n",
       "  + Y(2) @ Y(5)\n",
       "  + Z(2) @ Z(5))\n",
       "  + 0.5 * (X(4) @ X(7)\n",
       "  + Y(4) @ Y(7)\n",
       "  + Z(4) @ Z(7))\n",
       "  + 0.5 * (X(7) @ X(8)\n",
       "  + Y(7) @ Y(8)\n",
       "  + Z(7) @ Z(8))\n",
       ")"
      ]
     },
     "execution_count": 3,
     "metadata": {},
     "output_type": "execute_result"
    }
   ],
   "source": [
    " HeisenbergModel(9, J, lattice_dim=\"2D\")"
   ]
  },
  {
   "cell_type": "code",
   "execution_count": 4,
   "id": "d37fcf53-c17d-4e26-8e61-c885307cca2a",
   "metadata": {},
   "outputs": [
    {
     "data": {
      "text/plain": [
       "(\n",
       "    Y(0) @ Y(1)\n",
       "  + X(0) @ X(1)\n",
       "  + 3.0 * I(0)\n",
       "  + -0.75 * Z(1)\n",
       "  + -0.5 * Z(0)\n",
       "  + 0.25 * (Z(0) @ Z(1))\n",
       "  + Y(1) @ Y(2)\n",
       "  + X(1) @ X(2)\n",
       "  + -0.5 * Z(2)\n",
       "  + 0.25 * (Z(1) @ Z(2))\n",
       "  + Y(3) @ Y(4)\n",
       "  + X(3) @ X(4)\n",
       "  + -1.0 * Z(4)\n",
       "  + -0.75 * Z(3)\n",
       "  + 0.25 * (Z(3) @ Z(4))\n",
       "  + Y(5) @ Z(6) @ Z(7) @ Y(8)\n",
       "  + X(5) @ Z(6) @ Z(7) @ X(8)\n",
       "  + -0.5 * Z(8)\n",
       "  + -0.75 * Z(5)\n",
       "  + 0.25 * (Z(5) @ Z(8))\n",
       "  + Y(0) @ Z(1) @ Z(2) @ Y(3)\n",
       "  + X(0) @ Z(1) @ Z(2) @ X(3)\n",
       "  + 0.25 * (Z(0) @ Z(3))\n",
       "  + Y(1) @ Z(2) @ Z(3) @ Y(4)\n",
       "  + X(1) @ Z(2) @ Z(3) @ X(4)\n",
       "  + 0.25 * (Z(1) @ Z(4))\n",
       "  + Y(6) @ Y(7)\n",
       "  + X(6) @ X(7)\n",
       "  + -0.75 * Z(7)\n",
       "  + -0.5 * Z(6)\n",
       "  + 0.25 * (Z(6) @ Z(7))\n",
       "  + Y(4) @ Y(5)\n",
       "  + X(4) @ X(5)\n",
       "  + 0.25 * (Z(4) @ Z(5))\n",
       "  + Y(3) @ Z(4) @ Z(5) @ Y(6)\n",
       "  + X(3) @ Z(4) @ Z(5) @ X(6)\n",
       "  + 0.25 * (Z(3) @ Z(6))\n",
       "  + Y(2) @ Z(3) @ Z(4) @ Y(5)\n",
       "  + X(2) @ Z(3) @ Z(4) @ X(5)\n",
       "  + 0.25 * (Z(2) @ Z(5))\n",
       "  + Y(4) @ Z(5) @ Z(6) @ Y(7)\n",
       "  + X(4) @ Z(5) @ Z(6) @ X(7)\n",
       "  + 0.25 * (Z(4) @ Z(7))\n",
       "  + Y(7) @ Y(8)\n",
       "  + X(7) @ X(8)\n",
       "  + 0.25 * (Z(7) @ Z(8))\n",
       ")"
      ]
     },
     "execution_count": 4,
     "metadata": {},
     "output_type": "execute_result"
    }
   ],
   "source": [
    "HubbardModel_spinless(9, t=2.0, U=1.0, lattice_dim=\"2D\")"
   ]
  }
 ],
 "metadata": {
  "kernelspec": {
   "display_name": "Python 3 (ipykernel)",
   "language": "python",
   "name": "python3"
  },
  "language_info": {
   "codemirror_mode": {
    "name": "ipython",
    "version": 3
   },
   "file_extension": ".py",
   "mimetype": "text/x-python",
   "name": "python",
   "nbconvert_exporter": "python",
   "pygments_lexer": "ipython3",
   "version": "3.12.4"
  }
 },
 "nbformat": 4,
 "nbformat_minor": 5
}
